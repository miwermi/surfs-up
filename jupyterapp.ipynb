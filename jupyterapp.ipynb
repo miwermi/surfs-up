{
 "cells": [
  {
   "cell_type": "code",
   "execution_count": 1,
   "id": "da6dc43c",
   "metadata": {},
   "outputs": [],
   "source": [
    "#FLASK APP\n",
    "#Import dependencies...\n",
    "import datetime as dt\n",
    "import numpy as np\n",
    "import pandas as pd"
   ]
  },
  {
   "cell_type": "code",
   "execution_count": 3,
   "id": "8c2ae1a6",
   "metadata": {},
   "outputs": [],
   "source": [
    "#Import SqLalchemy\n",
    "import sqlalchemy\n",
    "from sqlalchemy.ext.automap import automap_base\n",
    "from sqlalchemy.orm import Session\n",
    "from sqlalchemy import create_engine, func"
   ]
  },
  {
   "cell_type": "code",
   "execution_count": 4,
   "id": "04de772f",
   "metadata": {},
   "outputs": [],
   "source": [
    "#Import Flask stuff\n",
    "from flask import Flask, jsonify"
   ]
  },
  {
   "cell_type": "code",
   "execution_count": 5,
   "id": "31434db7",
   "metadata": {},
   "outputs": [],
   "source": [
    "#Create engine\n",
    "engine = create_engine(\"sqlite:///hawaii.sqlite\")"
   ]
  },
  {
   "cell_type": "code",
   "execution_count": 7,
   "id": "65a48c16",
   "metadata": {},
   "outputs": [
    {
     "data": {
      "text/plain": [
       "['measurement', 'station']"
      ]
     },
     "execution_count": 7,
     "metadata": {},
     "output_type": "execute_result"
    }
   ],
   "source": [
    "#Automap and reflect the hawaii.sqlite database...\n",
    "Base = automap_base()\n",
    "Base.prepare(engine, reflect=True)\n",
    "Base.classes.keys()"
   ]
  },
  {
   "cell_type": "code",
   "execution_count": 8,
   "id": "7ef283b5",
   "metadata": {},
   "outputs": [],
   "source": [
    "#Creating variables for the base columns/classes\n",
    "Measurement = Base.classes.measurement\n",
    "Station = Base.classes.station"
   ]
  },
  {
   "cell_type": "code",
   "execution_count": 9,
   "id": "7cdfd9ea",
   "metadata": {},
   "outputs": [],
   "source": [
    "#Create session link\n",
    "session = Session(engine)"
   ]
  },
  {
   "cell_type": "code",
   "execution_count": 14,
   "id": "15bf747b",
   "metadata": {},
   "outputs": [
    {
     "name": "stdout",
     "output_type": "stream",
     "text": [
      "example __name__ = %s __main__\n",
      "example is being run directly.\n"
     ]
    }
   ],
   "source": [
    "#Test Flask\n",
    "app = Flask(__name__)\n",
    "print(\"example __name__ = %s\", __name__)\n",
    "\n",
    "if __name__ == \"__main__\":\n",
    "    print(\"example is being run directly.\")\n",
    "else:\n",
    "    print(\"example is being imported\")"
   ]
  },
  {
   "cell_type": "code",
   "execution_count": null,
   "id": "5f4c2997",
   "metadata": {},
   "outputs": [],
   "source": [
    "@app.route(\"/\")\n",
    "def welcome():\n",
    "    return(\n",
    "    '''\n",
    "    Welcome to the Climate Analysis API!\n",
    "    Available Routes:\n",
    "    /api/v1.0/precipitation\n",
    "    /api/v1.0/stations\n",
    "    /api/v1.0/tobs\n",
    "    /api/v1.0/temp/start/end\n",
    "    ''')\n",
    "\n",
    "flask run"
   ]
  },
  {
   "cell_type": "code",
   "execution_count": null,
   "id": "30b7efae",
   "metadata": {},
   "outputs": [],
   "source": []
  }
 ],
 "metadata": {
  "kernelspec": {
   "display_name": "Python 3 (ipykernel)",
   "language": "python",
   "name": "python3"
  },
  "language_info": {
   "codemirror_mode": {
    "name": "ipython",
    "version": 3
   },
   "file_extension": ".py",
   "mimetype": "text/x-python",
   "name": "python",
   "nbconvert_exporter": "python",
   "pygments_lexer": "ipython3",
   "version": "3.9.7"
  }
 },
 "nbformat": 4,
 "nbformat_minor": 5
}
